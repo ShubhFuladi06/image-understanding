{
 "cells": [
  {
   "cell_type": "code",
   "execution_count": 1,
   "id": "9c42faa0",
   "metadata": {},
   "outputs": [],
   "source": [
    "import copy\n",
    "import random\n",
    "import time\n",
    "from __future__ import print_function\n",
    "from itertools import combinations, permutations  \n",
    "import matplotlib.pyplot as plt\n",
    "import numpy as np\n",
    "import pandas as pd\n"
   ]
  },
  {
   "cell_type": "code",
   "execution_count": 2,
   "id": "8ce7533b",
   "metadata": {},
   "outputs": [
    {
     "name": "stdout",
     "output_type": "stream",
     "text": [
      "pt_tmp= [[18 46 14 26 17]\n",
      " [16 41 11 34 37]\n",
      " [41 38 40 34 23]]\n",
      "ms_tmp= [[1 5 2 3 4]\n",
      " [3 5 1 4 2]\n",
      " [5 1 3 4 2]]\n"
     ]
    }
   ],
   "source": [
    "# p=np.array([[15,0,0,0,21,0,0,7],\n",
    "#             [0,18,0,25,0,0,0,5], \n",
    "#             [0,0,17,0,0,22,10,0],\n",
    "#             [20,0,0,0,0,20,8,0]])\n",
    "\n",
    "# r=np.array([[1,2,3,4,5,6,7,8],\n",
    "#             [1,2,3,4,5,6,7,8], \n",
    "#             [1,2,3,4,5,6,7,8],\n",
    "#             [1,2,3,4,5,6,7,8]])\n",
    "# r = np.array([[7, 9, 0, 6, 4, 8, 2, 5, 1, 3], [6, 8, 3, 0, 1, 4, 5, 9, 2, 7], [1, 3, 5, 4, 0, 2, 6, 8, 9, 7],\n",
    "#               [1, 7, 4, 6, 5, 0, 8, 3, 9, 2], [7, 2, 8, 5, 1, 6, 3, 0, 9, 4], [8, 0, 4, 5, 9, 1, 7, 6, 3, 2],\n",
    "#               [6, 2, 8, 1, 9, 4, 7, 0, 5, 3], [8, 7, 5, 3, 2, 4, 9, 1, 0, 6], [4, 0, 9, 5, 7, 3, 2, 8, 6, 1],\n",
    "#               [9, 0, 3, 8, 1, 6, 2, 5, 4, 7], [7, 3, 4, 5, 2, 0, 6, 9, 1, 8], [0, 3, 2, 7, 8, 5, 9, 1, 6, 4],\n",
    "#               [9, 1, 3, 6, 2, 8, 7, 0, 5, 4], [4, 2, 5, 6, 8, 7, 3, 1, 0, 9], [2, 5, 9, 8, 0, 6, 3, 7, 1, 4]])\n",
    "# p = np.array([[8, 75, 72, 74, 30, 43, 38, 98, 26, 19],[19, 73, 43, 23, 85, 39, 13, 26, 67, 9],[50, 93, 80, 7, 55, 61, 57, 72, 42, 46],\n",
    "#               [68, 43, 99, 60, 68, 91, 11, 96, 11, 2],[84, 34, 40, 7, 70, 74, 12, 43, 69, 30],[60, 49, 59, 72, 63, 69, 99, 45, 27, 9],\n",
    "#               [71, 91, 65, 90, 98, 8, 50, 75, 37, 17],[62, 90, 98, 31, 91, 38, 72, 9, 72, 49],[35, 39, 74, 25, 47, 52,63, 21, 35, 80],\n",
    "#               [58, 5, 50, 52, 88, 20, 68, 24, 53, 57],[99, 91, 33, 19, 18, 38, 24, 35, 49, 9],[68, 60,77, 10, 60, 15, 72, 18, 90, 18],\n",
    "#               [79, 60, 56, 91, 40, 86, 72, 80, 89,51],[10, 92, 23, 46, 40, 72, 6, 23, 95, 34],[24, 29, 49, 55, 47, 77, 77, 8, 28, 48]])\n",
    "r = np.array([[1, 5, 2, 3, 4],\n",
    "              [3, 5, 1, 4, 2],\n",
    "              [5, 1, 3, 4, 2]])\n",
    "p = np.array([[18, 46, 14, 26, 17],\n",
    "              [16, 41, 11, 34, 37],\n",
    "              [41, 38, 40, 34, 23]])\n",
    "\n",
    "\n",
    "pt_tmp = p\n",
    "ms_tmp = r\n",
    "print(\"pt_tmp=\",pt_tmp)\n",
    "print(\"ms_tmp=\",ms_tmp)"
   ]
  },
  {
   "cell_type": "code",
   "execution_count": 3,
   "id": "f3fa806b",
   "metadata": {},
   "outputs": [],
   "source": [
    "\n",
    "dfshape=pt_tmp.shape\n",
    "num_mc=dfshape[1] # number of machines\n",
    "num_job=dfshape[0] # number of jobs\n",
    "num_gene=num_mc*num_job # number of genes in a chromosome\n",
    "pt=pt_tmp\n",
    "ms=ms_tmp\n",
    "# raw_input is used in python 2\n",
    "population_size = 30\n",
    "crossover_rate = 0.8\n",
    "mutation_rate = 0.2\n",
    "mutation_selection_rate = 0.2\n",
    "num_mutation_jobs = int(round(num_gene * mutation_selection_rate))\n",
    "num_iteration = 2000\n",
    "    \n",
    "start_time = time.time()\n",
    "\n",
    "'''==================== main code ==============================='''\n",
    "'''----- generate initial population -----'''\n",
    "random.seed(30)\n",
    "np.random.seed(30)\n",
    "Tbest=999999999999999\n",
    "best_list,best_obj=[],[]\n",
    "population_list=[]\n",
    "makespan_record=[]\n",
    "for i in range(population_size):\n",
    "    nxm_random_num=list(np.random.permutation(num_gene)) # generate a random permutation of 0 to num_job*num_mc-1\n",
    "    population_list.append(nxm_random_num) # add to the population_list\n",
    "    for j in range(num_gene):\n",
    "        population_list[i][j]=population_list[i][j]%num_job # convert to job number format, every job appears m times\n",
    "        \n",
    "for n in range(num_iteration):\n",
    "    Tbest_now=99999999999           \n",
    "   \n",
    "    '''-------- two point crossover --------'''\n",
    "    parent_list=copy.deepcopy(population_list)\n",
    "    offspring_list=copy.deepcopy(population_list)\n",
    "    S=list(np.random.permutation(population_size)) # generate a random sequence to select the parent chromosome to crossover\n",
    "    \n",
    "    for m in range(int(population_size/2)):\n",
    "        crossover_prob=np.random.rand()\n",
    "        if crossover_rate>=crossover_prob:\n",
    "            parent_1= population_list[S[2*m]][:]\n",
    "            parent_2= population_list[S[2*m+1]][:]\n",
    "            child_1=parent_1[:]\n",
    "            child_2=parent_2[:]\n",
    "            cutpoint=list(np.random.choice(num_gene, 2, replace=False))\n",
    "            cutpoint.sort()\n",
    "        \n",
    "            child_1[cutpoint[0]:cutpoint[1]]=parent_2[cutpoint[0]:cutpoint[1]]\n",
    "            child_2[cutpoint[0]:cutpoint[1]]=parent_1[cutpoint[0]:cutpoint[1]]\n",
    "            offspring_list[S[2*m]]=child_1[:]\n",
    "            offspring_list[S[2*m+1]]=child_2[:]\n",
    "        \n",
    "    \n",
    "    '''----------repairment-------------'''\n",
    "    for m in range(population_size):\n",
    "        job_count={}\n",
    "        larger,less=[],[] # 'larger' record jobs appear in the chromosome more than m times, and 'less' records less than m times.\n",
    "        for i in range(num_job):\n",
    "            if i in offspring_list[m]:\n",
    "                count=offspring_list[m].count(i)\n",
    "                pos=offspring_list[m].index(i)\n",
    "                job_count[i]=[count,pos] # store the above two values to the job_count dictionary\n",
    "            else:\n",
    "                count=0\n",
    "                job_count[i]=[count,0]\n",
    "            if count>num_mc:\n",
    "                larger.append(i)\n",
    "            elif count<num_mc:\n",
    "                less.append(i)\n",
    "                \n",
    "        for k in range(len(larger)):\n",
    "            chg_job=larger[k]\n",
    "            while job_count[chg_job][0]>num_mc:\n",
    "                for d in range(len(less)):\n",
    "                    if job_count[less[d]][0]<num_mc:                    \n",
    "                        offspring_list[m][job_count[chg_job][1]]=less[d]\n",
    "                        job_count[chg_job][1]=offspring_list[m].index(chg_job)\n",
    "                        job_count[chg_job][0]=job_count[chg_job][0]-1\n",
    "                        job_count[less[d]][0]=job_count[less[d]][0]+1                    \n",
    "                    if job_count[chg_job][0]==num_mc:\n",
    "                        break     \n",
    "    \n",
    "    '''--------mutatuon--------'''   \n",
    "    for m in range(len(offspring_list)):\n",
    "        mutation_prob=np.random.rand()\n",
    "        if mutation_rate >= mutation_prob:\n",
    "            m_chg=list(np.random.choice(num_gene, num_mutation_jobs, replace=False)) # chooses the position to mutation\n",
    "            t_value_last=offspring_list[m][m_chg[0]] # save the value which is on the first mutation position\n",
    "            for i in range(num_mutation_jobs-1):\n",
    "                offspring_list[m][m_chg[i]]=offspring_list[m][m_chg[i+1]] # displacement\n",
    "            \n",
    "            offspring_list[m][m_chg[num_mutation_jobs-1]]=t_value_last # move the value of the first mutation position to the last mutation position\n",
    "  \n",
    "    \n",
    "    '''--------fitness value(calculate makespan)-------------'''\n",
    "    total_chromosome=copy.deepcopy(parent_list)+copy.deepcopy(offspring_list) # parent and offspring chromosomes combination\n",
    "    chrom_fitness,chrom_fit=[],[]\n",
    "    total_fitness=0\n",
    "    for m in range(population_size*2):\n",
    "        j_keys=[j for j in range(num_job)]\n",
    "        key_count={key:0 for key in j_keys}\n",
    "        j_count={key:0 for key in j_keys}\n",
    "        m_keys=[j+1 for j in range(num_mc)]\n",
    "        m_count={key:0 for key in m_keys}\n",
    "        \n",
    "        for i in total_chromosome[m]:\n",
    "            gen_t=int(pt[i][key_count[i]])\n",
    "            gen_m=int(ms[i][key_count[i]])\n",
    "            j_count[i]=j_count[i]+gen_t\n",
    "            m_count[gen_m]=m_count[gen_m]+gen_t\n",
    "            \n",
    "            if m_count[gen_m]<j_count[i]:\n",
    "                m_count[gen_m]=j_count[i]\n",
    "            elif m_count[gen_m]>j_count[i]:\n",
    "                j_count[i]=m_count[gen_m]\n",
    "            \n",
    "            key_count[i]=key_count[i]+1\n",
    "    \n",
    "        makespan=max(j_count.values())\n",
    "        chrom_fitness.append(1/makespan)\n",
    "        chrom_fit.append(makespan)\n",
    "        total_fitness=total_fitness+chrom_fitness[m]\n",
    "\n",
    "    \n",
    "    '''----------selection(roulette wheel approach)----------'''\n",
    "    pk,qk=[],[]\n",
    "    \n",
    "    for i in range(population_size*2):\n",
    "        pk.append(chrom_fitness[i]/total_fitness)\n",
    "    for i in range(population_size*2):\n",
    "        cumulative=0\n",
    "        for j in range(0,i+1):\n",
    "            cumulative=cumulative+pk[j]\n",
    "        qk.append(cumulative)\n",
    "    \n",
    "    selection_rand=[np.random.rand() for i in range(population_size)]\n",
    "    \n",
    "    for i in range(population_size):\n",
    "        if selection_rand[i]<=qk[0]:\n",
    "            population_list[i]=copy.deepcopy(total_chromosome[0])\n",
    "        else:\n",
    "            for j in range(0,population_size*2-1):\n",
    "                if selection_rand[i]>qk[j] and selection_rand[i]<=qk[j+1]:\n",
    "                    population_list[i]=copy.deepcopy(total_chromosome[j+1])\n",
    "                    break\n",
    "    '''----------comparison----------'''\n",
    "    for i in range(population_size*2):\n",
    "        if chrom_fit[i]<Tbest_now:\n",
    "            Tbest_now=chrom_fit[i]\n",
    "            sequence_now=copy.deepcopy(total_chromosome[i])\n",
    "    if Tbest_now<=Tbest:\n",
    "        Tbest=Tbest_now\n",
    "        sequence_best=copy.deepcopy(sequence_now)\n",
    "        \n",
    "    makespan_record.append(Tbest)\n",
    "    \n"
   ]
  },
  {
   "cell_type": "code",
   "execution_count": 4,
   "id": "d78577b7",
   "metadata": {},
   "outputs": [
    {
     "name": "stdout",
     "output_type": "stream",
     "text": [
      "m: 59\n",
      "n: 1999\n",
      "optimal sequence [1, 2, 0, 2, 1, 0, 0, 1, 1, 2, 2, 0, 1, 2, 0]\n",
      "optimal value:202.000000\n",
      "the elapsed time:7.409002304077148\n",
      "makespan_record: 2000\n"
     ]
    }
   ],
   "source": [
    "print(\"m:\",m)\n",
    "print(\"n:\",n)\n",
    "print(\"optimal sequence\", sequence_best)\n",
    "print(\"optimal value:%f\" % Tbest)\n",
    "print('the elapsed time:%s' % (time.time() - start_time))\n",
    "print('makespan_record:',len(makespan_record))"
   ]
  },
  {
   "cell_type": "code",
   "execution_count": 5,
   "id": "2f528f6a",
   "metadata": {},
   "outputs": [
    {
     "data": {
      "text/plain": [
       "5"
      ]
     },
     "execution_count": 5,
     "metadata": {},
     "output_type": "execute_result"
    }
   ],
   "source": [
    "#print(makespan_record)\n",
    "len(sequence_best)\n",
    "num_mc"
   ]
  },
  {
   "cell_type": "code",
   "execution_count": 6,
   "id": "e6952748",
   "metadata": {},
   "outputs": [
    {
     "data": {
      "image/png": "[encoded data removed]",
      "text/plain": [
       "<Figure size 432x288 with 1 Axes>"
      ]
     },
     "metadata": {
      "needs_background": "light"
     },
     "output_type": "display_data"
    }
   ],
   "source": [
    "import matplotlib.pyplot as plt\n",
    "%matplotlib inline\n",
    "plt.plot([i for i in range(len(makespan_record))],makespan_record,'b')\n",
    "plt.ylabel('makespan',fontsize=15)\n",
    "plt.xlabel('generation',fontsize=15)\n",
    "plt.show()"
   ]
  },
  {
   "cell_type": "code",
   "execution_count": 7,
   "id": "02e00c86",
   "metadata": {},
   "outputs": [],
   "source": [
    "# num_mc=5\n",
    "# num_job=3\n",
    "# m=59\n",
    "# n=1999\n",
    "# sequence_best=[1, 2, 0, 2, 1, 1, 1, 0, 2, 0, 1, 2, 0, 0, 2]"
   ]
  },
  {
   "cell_type": "code",
   "execution_count": 8,
   "id": "5ebd7752",
   "metadata": {},
   "outputs": [],
   "source": [
    "# ms = np.array([[1, 5, 2, 3, 4],\n",
    "#               [3, 5, 1, 4, 2],\n",
    "#               [5, 1, 3, 4, 2]])\n",
    "# pt = np.array([[18, 46, 14, 26, 17],\n",
    "#               [16, 41, 11, 34, 37],\n",
    "#               [41, 38, 40, 34, 23]])\n",
    "\n"
   ]
  },
  {
   "cell_type": "code",
   "execution_count": 9,
   "id": "a072e869",
   "metadata": {},
   "outputs": [
    {
     "data": {
      "text/plain": [
       "(59, 1999, 2)"
      ]
     },
     "execution_count": 9,
     "metadata": {},
     "output_type": "execute_result"
    }
   ],
   "source": [
    "x = np.zeros((m, n, 2), dtype=int)\n",
    "x.shape"
   ]
  },
  {
   "cell_type": "code",
   "execution_count": 10,
   "id": "c6693c4a",
   "metadata": {},
   "outputs": [
    {
     "data": {
      "text/plain": [
       "(59, 1999)"
      ]
     },
     "execution_count": 10,
     "metadata": {},
     "output_type": "execute_result"
    }
   ],
   "source": [
    "h = np.zeros((m, n), dtype=int)\n",
    "h.shape"
   ]
  },
  {
   "cell_type": "code",
   "execution_count": 11,
   "id": "98830fed",
   "metadata": {},
   "outputs": [
    {
     "data": {
      "text/plain": [
       "(59, 1999)"
      ]
     },
     "execution_count": 11,
     "metadata": {},
     "output_type": "execute_result"
    }
   ],
   "source": [
    "e = np.zeros((m,n), dtype=int)\n",
    "e.shape"
   ]
  },
  {
   "cell_type": "code",
   "execution_count": 12,
   "id": "ec77cc6f",
   "metadata": {},
   "outputs": [
    {
     "data": {
      "text/plain": [
       "[1, 2, 3, 4, 5]"
      ]
     },
     "execution_count": 12,
     "metadata": {},
     "output_type": "execute_result"
    }
   ],
   "source": [
    "m_keys = [j + 1 for j in range(num_mc)]\n",
    "m_keys"
   ]
  },
  {
   "cell_type": "code",
   "execution_count": 13,
   "id": "51e1b147",
   "metadata": {},
   "outputs": [
    {
     "data": {
      "text/plain": [
       "[0, 1, 2]"
      ]
     },
     "execution_count": 13,
     "metadata": {},
     "output_type": "execute_result"
    }
   ],
   "source": [
    "j_keys = [j for j in range(num_job)]\n",
    "j_keys"
   ]
  },
  {
   "cell_type": "code",
   "execution_count": 14,
   "id": "4c111f3c",
   "metadata": {},
   "outputs": [
    {
     "data": {
      "text/plain": [
       "{0: 0, 1: 0, 2: 0}"
      ]
     },
     "execution_count": 14,
     "metadata": {},
     "output_type": "execute_result"
    }
   ],
   "source": [
    "key_count = {key: 0 for key in j_keys}\n",
    "key_count"
   ]
  },
  {
   "cell_type": "code",
   "execution_count": 15,
   "id": "7b5a3110",
   "metadata": {},
   "outputs": [
    {
     "data": {
      "text/plain": [
       "{0: 0, 1: 0, 2: 0}"
      ]
     },
     "execution_count": 15,
     "metadata": {},
     "output_type": "execute_result"
    }
   ],
   "source": [
    "j_count = {key: 0 for key in j_keys}\n",
    "j_count"
   ]
  },
  {
   "cell_type": "code",
   "execution_count": 16,
   "id": "a9a5d1d1",
   "metadata": {},
   "outputs": [
    {
     "data": {
      "text/plain": [
       "{1: 0, 2: 0, 3: 0, 4: 0, 5: 0}"
      ]
     },
     "execution_count": 16,
     "metadata": {},
     "output_type": "execute_result"
    }
   ],
   "source": [
    "m_count = {key: 0 for key in m_keys}\n",
    "m_count"
   ]
  },
  {
   "cell_type": "code",
   "execution_count": 17,
   "id": "c094544b",
   "metadata": {},
   "outputs": [],
   "source": [
    "j_record = {}\n"
   ]
  },
  {
   "cell_type": "code",
   "execution_count": 18,
   "id": "2e58b8a7",
   "metadata": {},
   "outputs": [],
   "source": [
    "x = np.zeros((m, n, 2), dtype=int)\n",
    "h = np.zeros((m, n), dtype=int)\n",
    "e = np.zeros((m, n), dtype=int)\n",
    "\n",
    "m_keys = [j + 1 for j in range(num_mc)]\n",
    "j_keys = [j for j in range(num_job)]\n",
    "key_count = {key: 0 for key in j_keys}\n",
    "j_count = {key: 0 for key in j_keys}\n",
    "m_count = {key: 0 for key in m_keys}\n",
    "j_record = {}\n",
    "for i in sequence_best:\n",
    "    gen_t = int(pt[i][key_count[i]])  # time\n",
    "    gen_m = int(ms[i][key_count[i]])  # order\n",
    "    j_count[i] = j_count[i] + gen_t  # time of job\n",
    "    m_count[gen_m] = m_count[gen_m] + gen_t  # time of machine\n",
    "\n",
    "    if m_count[gen_m] < j_count[i]:\n",
    "        m_count[gen_m] = j_count[i]\n",
    "    elif m_count[gen_m] > j_count[i]:\n",
    "        j_count[i] = m_count[gen_m]\n",
    "\n",
    "    # convert seconds to hours, minutes and seconds\n",
    "    start_time = int(j_count[i] - pt[i][int(key_count[i])])\n",
    "    end_time = int(j_count[i])\n",
    "\n",
    "    j_record[(i, gen_m)] = [start_time, end_time, key_count[i]]\n",
    "\n",
    "    key_count[i] = key_count[i] + 1\n",
    "\n",
    "df = []\n",
    "for m in m_keys:\n",
    "    for j in j_keys:\n",
    "        list_of_start = [j_record[(q, m)][0] for q in j_keys]\n",
    "        list_of_start.sort()\n",
    "        order = list_of_start.index(j_record[(j, m)][0])\n",
    "        h[m - 1, order] = j_record[(j, m)][0]\n",
    "        e[m - 1, order] = j_record[(j, m)][1]\n",
    "        x[m - 1, order, 0] = j\n",
    "        x[m - 1, order, 1] = j_record[(j, m)][2]\n",
    "        df.append(dict(Task='Machine %s' % (m), Start='2018-07-14 %s' % (str(j_record[(j, m)][0])), Finish='2018-07-14 %s' % (str(j_record[(j, m)][1])), Resource='Job %s' % (j + 1)))\n",
    "        start=h\n",
    "        end=e"
   ]
  },
  {
   "cell_type": "code",
   "execution_count": 19,
   "id": "23698b2b",
   "metadata": {},
   "outputs": [
    {
     "data": {
      "text/plain": [
       "array([[  0,  41,  82, ...,   0,   0,   0],\n",
       "       [128, 142, 179, ...,   0,   0,   0],\n",
       "       [  0,  79, 142, ...,   0,   0,   0],\n",
       "       ...,\n",
       "       [  0,   0,   0, ...,   0,   0,   0],\n",
       "       [  0,   0,   0, ...,   0,   0,   0],\n",
       "       [  0,   0,   0, ...,   0,   0,   0]])"
      ]
     },
     "execution_count": 19,
     "metadata": {},
     "output_type": "execute_result"
    }
   ],
   "source": [
    "h"
   ]
  },
  {
   "cell_type": "code",
   "execution_count": 20,
   "id": "064b0dfc",
   "metadata": {},
   "outputs": [
    {
     "data": {
      "text/plain": [
       "2"
      ]
     },
     "execution_count": 20,
     "metadata": {},
     "output_type": "execute_result"
    }
   ],
   "source": [
    "x[m - 1, order, 0]"
   ]
  },
  {
   "cell_type": "code",
   "execution_count": 21,
   "id": "f28c1396",
   "metadata": {},
   "outputs": [
    {
     "data": {
      "text/plain": [
       "array([[ 18,  79,  93, ...,   0,   0,   0],\n",
       "       [142, 179, 202, ...,   0,   0,   0],\n",
       "       [ 16, 119, 168, ...,   0,   0,   0],\n",
       "       ...,\n",
       "       [  0,   0,   0, ...,   0,   0,   0],\n",
       "       [  0,   0,   0, ...,   0,   0,   0],\n",
       "       [  0,   0,   0, ...,   0,   0,   0]])"
      ]
     },
     "execution_count": 21,
     "metadata": {},
     "output_type": "execute_result"
    }
   ],
   "source": [
    "e"
   ]
  },
  {
   "cell_type": "code",
   "execution_count": 22,
   "id": "c8c9bd9c",
   "metadata": {},
   "outputs": [
    {
     "data": {
      "text/plain": [
       "array([[[0, 0],\n",
       "        [2, 1],\n",
       "        [1, 2],\n",
       "        ...,\n",
       "        [0, 0],\n",
       "        [0, 0],\n",
       "        [0, 0]],\n",
       "\n",
       "       [[0, 2],\n",
       "        [1, 4],\n",
       "        [2, 4],\n",
       "        ...,\n",
       "        [0, 0],\n",
       "        [0, 0],\n",
       "        [0, 0]],\n",
       "\n",
       "       [[1, 0],\n",
       "        [2, 2],\n",
       "        [0, 3],\n",
       "        ...,\n",
       "        [0, 0],\n",
       "        [0, 0],\n",
       "        [0, 0]],\n",
       "\n",
       "       ...,\n",
       "\n",
       "       [[0, 0],\n",
       "        [0, 0],\n",
       "        [0, 0],\n",
       "        ...,\n",
       "        [0, 0],\n",
       "        [0, 0],\n",
       "        [0, 0]],\n",
       "\n",
       "       [[0, 0],\n",
       "        [0, 0],\n",
       "        [0, 0],\n",
       "        ...,\n",
       "        [0, 0],\n",
       "        [0, 0],\n",
       "        [0, 0]],\n",
       "\n",
       "       [[0, 0],\n",
       "        [0, 0],\n",
       "        [0, 0],\n",
       "        ...,\n",
       "        [0, 0],\n",
       "        [0, 0],\n",
       "        [0, 0]]])"
      ]
     },
     "execution_count": 22,
     "metadata": {},
     "output_type": "execute_result"
    }
   ],
   "source": [
    "x"
   ]
  },
  {
   "cell_type": "code",
   "execution_count": 23,
   "id": "0b1b3cfa",
   "metadata": {},
   "outputs": [
    {
     "data": {
      "text/plain": [
       "[{'Task': 'Machine 1',\n",
       "  'Start': '2018-07-14 0',\n",
       "  'Finish': '2018-07-14 18',\n",
       "  'Resource': 'Job 1'},\n",
       " {'Task': 'Machine 1',\n",
       "  'Start': '2018-07-14 82',\n",
       "  'Finish': '2018-07-14 93',\n",
       "  'Resource': 'Job 2'},\n",
       " {'Task': 'Machine 1',\n",
       "  'Start': '2018-07-14 41',\n",
       "  'Finish': '2018-07-14 79',\n",
       "  'Resource': 'Job 3'},\n",
       " {'Task': 'Machine 2',\n",
       "  'Start': '2018-07-14 128',\n",
       "  'Finish': '2018-07-14 142',\n",
       "  'Resource': 'Job 1'},\n",
       " {'Task': 'Machine 2',\n",
       "  'Start': '2018-07-14 142',\n",
       "  'Finish': '2018-07-14 179',\n",
       "  'Resource': 'Job 2'},\n",
       " {'Task': 'Machine 2',\n",
       "  'Start': '2018-07-14 179',\n",
       "  'Finish': '2018-07-14 202',\n",
       "  'Resource': 'Job 3'},\n",
       " {'Task': 'Machine 3',\n",
       "  'Start': '2018-07-14 142',\n",
       "  'Finish': '2018-07-14 168',\n",
       "  'Resource': 'Job 1'},\n",
       " {'Task': 'Machine 3',\n",
       "  'Start': '2018-07-14 0',\n",
       "  'Finish': '2018-07-14 16',\n",
       "  'Resource': 'Job 2'},\n",
       " {'Task': 'Machine 3',\n",
       "  'Start': '2018-07-14 79',\n",
       "  'Finish': '2018-07-14 119',\n",
       "  'Resource': 'Job 3'},\n",
       " {'Task': 'Machine 4',\n",
       "  'Start': '2018-07-14 168',\n",
       "  'Finish': '2018-07-14 185',\n",
       "  'Resource': 'Job 1'},\n",
       " {'Task': 'Machine 4',\n",
       "  'Start': '2018-07-14 93',\n",
       "  'Finish': '2018-07-14 127',\n",
       "  'Resource': 'Job 2'},\n",
       " {'Task': 'Machine 4',\n",
       "  'Start': '2018-07-14 127',\n",
       "  'Finish': '2018-07-14 161',\n",
       "  'Resource': 'Job 3'},\n",
       " {'Task': 'Machine 5',\n",
       "  'Start': '2018-07-14 82',\n",
       "  'Finish': '2018-07-14 128',\n",
       "  'Resource': 'Job 1'},\n",
       " {'Task': 'Machine 5',\n",
       "  'Start': '2018-07-14 41',\n",
       "  'Finish': '2018-07-14 82',\n",
       "  'Resource': 'Job 2'},\n",
       " {'Task': 'Machine 5',\n",
       "  'Start': '2018-07-14 0',\n",
       "  'Finish': '2018-07-14 41',\n",
       "  'Resource': 'Job 3'}]"
      ]
     },
     "execution_count": 23,
     "metadata": {},
     "output_type": "execute_result"
    }
   ],
   "source": [
    "df"
   ]
  },
  {
   "cell_type": "code",
   "execution_count": 24,
   "id": "1fbbd4a5",
   "metadata": {},
   "outputs": [],
   "source": [
    "def PlotRec(mPoint1, mPoint2, mText):\n",
    "    vPoint = np.zeros((4, 2))\n",
    "    vPoint[0, :] = [mPoint1, mText - 0.8]\n",
    "    vPoint[1, :] = [mPoint2, mText - 0.8]\n",
    "    vPoint[2, :] = [mPoint1, mText]\n",
    "    vPoint[3, :] = [mPoint2, mText]\n",
    "    plt.plot([vPoint[0, 0], vPoint[1, 0]], [vPoint[0, 1], vPoint[1, 1]], 'k')\n",
    "    # hold on\n",
    "    plt.plot([vPoint[0, 0], vPoint[2, 0]], [vPoint[0, 1], vPoint[2, 1]], 'k')\n",
    "    plt.plot([vPoint[1, 0], vPoint[3, 0]], [vPoint[1, 1], vPoint[3, 1]], 'k')\n",
    "    plt.plot([vPoint[2, 0], vPoint[3, 0]], [vPoint[2, 1], vPoint[3, 1]], 'k')"
   ]
  },
  {
   "cell_type": "code",
   "execution_count": null,
   "id": "edf60fd9",
   "metadata": {},
   "outputs": [],
   "source": []
  },
  {
   "cell_type": "code",
   "execution_count": 25,
   "id": "7cc33fac",
   "metadata": {},
   "outputs": [
    {
     "name": "stdout",
     "output_type": "stream",
     "text": [
      "0\n"
     ]
    },
    {
     "data": {
      "image/png": "[encoded data removed]",
      "text/plain": [
       "<Figure size 864x288 with 1 Axes>"
      ]
     },
     "metadata": {
      "needs_background": "light"
     },
     "output_type": "display_data"
    }
   ],
   "source": [
    "colorbox = ['yellow', 'brown', 'whitesmoke', 'orange', 'lightyellow','khaki', 'silver', 'pink', 'lightgreen', 'grey', 'r']\n",
    "\n",
    "for i in range(100):\n",
    "    colorArr = ['1', '2', '3', '4', '5', '6', '7',\n",
    "                        '8', '9', 'A', 'B', 'C', 'D', 'E', 'F']\n",
    "    color = \"\"\n",
    "    for i in range(6):\n",
    "        color += colorArr[random.randint(0, 14)]\n",
    "    colorbox.append(\"#\" + color)\n",
    "\n",
    "zzl = plt.figure(figsize=(12, 4))\n",
    "for i in range(m):\n",
    "    # number_of_mashine:\n",
    "    for j in range(n):\n",
    "        # number_of_job:\n",
    "\n",
    "        mPoint1 = h[i, j]\n",
    "        mPoint2 = e[i, j]\n",
    "        mText = i + 1.5\n",
    "        PlotRec(mPoint1, mPoint2, mText)          ##...................... PlotRec\n",
    "        Word = str(x[i, j, 0] + 1) + '.' + str(x[i, j, 1] + 1)\n",
    "        # hold on\n",
    "\n",
    "        x1 = mPoint1\n",
    "        y1 = mText - 0.8\n",
    "        x2 = mPoint2\n",
    "        y2 = mText - 0.8\n",
    "        x3 = mPoint2\n",
    "        y3 = mText\n",
    "        x4 = mPoint1\n",
    "        y4 = mText\n",
    "        plt.fill([x1, x2, x3, x4], [y1, y2, y3, y4],color=colorbox[x[i, j, 0]])\n",
    "\n",
    "        plt.text(0.5 * mPoint1 + 0.5 * mPoint2 - 3, mText - 0.5, Word)\n",
    "print(x1)\n",
    "\n",
    "plt.xlabel('Time')\n",
    "plt.ylabel('Machine')\n",
    "plt.tight_layout()\n",
    "plt.savefig('./results/out.png', dpi=700)"
   ]
  },
  {
   "cell_type": "code",
   "execution_count": null,
   "id": "5c03a443",
   "metadata": {},
   "outputs": [],
   "source": [
    "\n"
   ]
  },
  {
   "cell_type": "code",
   "execution_count": null,
   "id": "a0d46a9f",
   "metadata": {},
   "outputs": [],
   "source": [
    "\n"
   ]
  },
  {
   "cell_type": "code",
   "execution_count": null,
   "id": "1b12f2a8",
   "metadata": {},
   "outputs": [],
   "source": []
  }
 ],
 "metadata": {
  "kernelspec": {
   "display_name": "Python 3",
   "language": "python",
   "name": "python3"
  },
  "language_info": {
   "codemirror_mode": {
    "name": "ipython",
    "version": 3
   },
   "file_extension": ".py",
   "mimetype": "text/x-python",
   "name": "python",
   "nbconvert_exporter": "python",
   "pygments_lexer": "ipython3",
   "version": "3.8.8"
  }
 },
 "nbformat": 4,
 "nbformat_minor": 5
}
